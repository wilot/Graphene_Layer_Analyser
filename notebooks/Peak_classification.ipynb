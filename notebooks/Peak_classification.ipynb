{
 "cells": [
  {
   "cell_type": "markdown",
   "id": "bbc25e0d-c6c5-497a-96e8-c2af3d10e5fd",
   "metadata": {},
   "source": [
    "# More tests..."
   ]
  },
  {
   "cell_type": "code",
   "execution_count": 1,
   "id": "f471b8b6-f6d0-4e89-8350-613e61a420e2",
   "metadata": {},
   "outputs": [],
   "source": [
    "%matplotlib qt\n",
    "import os\n",
    "import sys\n",
    "import time\n",
    "\n",
    "import numpy as np\n",
    "import scipy.optimize\n",
    "import sklearn.cluster\n",
    "import matplotlib.pyplot as plt\n",
    "import skimage.feature\n",
    "import skimage.filters\n",
    "import skimage.morphology\n",
    "\n",
    "import hyperspy.api as hs\n",
    "\n",
    "sys.path.append(\"../\")\n",
    "import windows\n",
    "import methods"
   ]
  },
  {
   "cell_type": "code",
   "execution_count": 2,
   "id": "d0032134-0f65-4fad-8c47-6af0a299d07d",
   "metadata": {},
   "outputs": [],
   "source": [
    "DATA_DIRECTORY = \"../data\"\n",
    "data_filenames = []\n",
    "\n",
    "# Make a list of filenames\n",
    "for dataset_directory in os.listdir(DATA_DIRECTORY):\n",
    "    dataset_directory_path = os.path.join(DATA_DIRECTORY, dataset_directory)\n",
    "    data_filenames.append({\n",
    "        \"dataset_name\": dataset_directory,\n",
    "        \"dataset_file_list\": [\n",
    "            os.path.join(dataset_directory_path, filename) \n",
    "            for filename in os.listdir(dataset_directory_path) \n",
    "            if filename[-4:] == \".dm3\" or filename[-4:] == \".emd\"\n",
    "        ]\n",
    "    })"
   ]
  },
  {
   "cell_type": "markdown",
   "id": "d515645e-9941-4713-ba3a-9c3c4e3de124",
   "metadata": {},
   "source": [
    "## Data loading"
   ]
  },
  {
   "cell_type": "code",
   "execution_count": 3,
   "id": "be39d8e9-48af-4f4d-ab5a-34e16288637d",
   "metadata": {},
   "outputs": [],
   "source": [
    "s = hs.load(data_filenames[0][\"dataset_file_list\"][7])"
   ]
  },
  {
   "cell_type": "markdown",
   "id": "630c68ac-0ec0-4a1a-a5a7-fb386759c2da",
   "metadata": {},
   "source": [
    "## Initial peak finding"
   ]
  },
  {
   "cell_type": "code",
   "execution_count": 4,
   "id": "387064a1-3f3e-4dcb-89ef-159da78648b3",
   "metadata": {},
   "outputs": [],
   "source": [
    "peaks_list = skimage.feature.peak_local_max(s.data[:], min_distance=100, threshold_abs=100, exclude_border=True, num_peaks=12)"
   ]
  },
  {
   "cell_type": "code",
   "execution_count": 5,
   "id": "edffac87-0dc4-41bf-a74e-240b5ada15bb",
   "metadata": {},
   "outputs": [],
   "source": [
    "spot_fwhm = methods.get_gaussian_fwhm(s.data, peaks_list[0])"
   ]
  },
  {
   "cell_type": "code",
   "execution_count": 6,
   "id": "2af0bed0-8fc3-4725-8593-077ccc56e539",
   "metadata": {},
   "outputs": [],
   "source": [
    "selected_radius = spot_fwhm * 2\n",
    "inner_background_radius = spot_fwhm * 5\n",
    "outer_background_radius = spot_fwhm * 6"
   ]
  },
  {
   "cell_type": "markdown",
   "id": "ef526578-eb18-45dc-b324-1ad33bcfc189",
   "metadata": {},
   "source": [
    "## Peak refinement\n",
    "Refine the peaks by identifying spurrious peaks. Refine by grouping by radial distance from an estimated central point, and by asimuthal spread.\n",
    "\n",
    "### Radial Grouping"
   ]
  },
  {
   "cell_type": "code",
   "execution_count": 7,
   "id": "06b66ef2-f89a-46f1-8073-699e64c38313",
   "metadata": {},
   "outputs": [],
   "source": [
    "central_spot_estimate = np.mean(peaks_list, axis=0)\n",
    "\n",
    "distances_to_central_spot = np.linalg.norm([peak_pos - central_spot_estimate for peak_pos in peaks_list], axis=1)\n",
    "distances_to_central_spot = np.expand_dims(distances_to_central_spot, axis=1)\n",
    "\n",
    "position_distance = np.concatenate((peaks_list, distances_to_central_spot), axis=1)\n",
    "position_distance = position_distance[position_distance[:, 2].argsort()]\n",
    "\n",
    "radial_distance_steps = np.diff(position_distance[:, 2])\n",
    "radial_distance_steps_median = np.median(radial_distance_steps)\n",
    "radial_distance_steps_normalised = radial_distance_steps / radial_distance_steps_median"
   ]
  },
  {
   "cell_type": "code",
   "execution_count": 8,
   "id": "3372c176-93c8-4ad6-a419-026c3d735bb6",
   "metadata": {},
   "outputs": [],
   "source": [
    "big_step_indices = []\n",
    "for index, normalised_radial_step in enumerate(radial_distance_steps_normalised):\n",
    "    if normalised_radial_step > 5:\n",
    "        big_step_indices.append(index+1)"
   ]
  },
  {
   "cell_type": "code",
   "execution_count": 9,
   "id": "1f50d258-28f4-4189-9bb7-ba18a1217dfd",
   "metadata": {},
   "outputs": [],
   "source": [
    "groups = []\n",
    "prev_step_inx = 0\n",
    "for step_index in big_step_indices:\n",
    "    groups.append(position_distance[prev_step_inx:step_index, :2])\n",
    "    prev_step_inx = step_index\n",
    "groups.append(position_distance[step_index:, :2])"
   ]
  },
  {
   "cell_type": "code",
   "execution_count": 10,
   "id": "bba4feba-4e50-4286-a6e0-c222d6dbfc8b",
   "metadata": {},
   "outputs": [],
   "source": [
    "fig, ax = plt.subplots()\n",
    "ax.imshow(s.data, vmin=0, vmax=200)\n",
    "group_colors = 'r', 'g', 'b'\n",
    "for group_color, group in zip(group_colors, groups):\n",
    "    color = group_color\n",
    "    for peak_point in group:\n",
    "        circle = plt.Circle(peak_point[::-1], outer_background_radius*1.1, color=color, fill=False)\n",
    "        ax.add_patch(circle)\n",
    "central_spot_patch = plt.Circle(central_spot_estimate[::-1], outer_background_radius, color='r', fill=True)\n",
    "ax.add_patch(central_spot_patch)\n",
    "if any([len(group)!=6 for group in groups]):\n",
    "    ax.set_title(\"Error!\")\n",
    "plt.show()"
   ]
  },
  {
   "cell_type": "markdown",
   "id": "1437711c-b28c-4766-9aad-457c3f7bc77d",
   "metadata": {},
   "source": [
    "### Central Spot Refinement\n",
    "\n",
    "Tried a trilateration technique, but got multiple solutions. Then found this circumcentre thing. Will now take a set of circumcentres..."
   ]
  },
  {
   "cell_type": "code",
   "execution_count": 71,
   "id": "2291e1b7-f92a-481b-a056-8c37940f4c43",
   "metadata": {},
   "outputs": [],
   "source": [
    "test_points = groups[0][:3]"
   ]
  },
  {
   "cell_type": "code",
   "execution_count": 84,
   "id": "7bc6bdb3-05d5-4a05-b4df-a43e22d83b42",
   "metadata": {},
   "outputs": [
    {
     "name": "stdout",
     "output_type": "stream",
     "text": [
      "[0 1 2]\n",
      "[5 0 1]\n",
      "[4 5 0]\n",
      "[3 4 5]\n",
      "[2 3 4]\n",
      "[1 2 3]\n"
     ]
    }
   ],
   "source": [
    "circumcentre_triplets = []\n",
    "indices = np.arange(len(groups[0]))\n",
    "for _ in range(6):\n",
    "    circumcentre_triplets.append([groups[0][i] for i in indices[:3]])\n",
    "    print(indices[:3])\n",
    "    indices = np.roll(indices, shift=1)"
   ]
  },
  {
   "cell_type": "code",
   "execution_count": 89,
   "id": "17fd7c9e-8e57-4bd5-9bbe-a1c2248cedb1",
   "metadata": {},
   "outputs": [
    {
     "data": {
      "text/plain": [
       "(6, 2)"
      ]
     },
     "execution_count": 89,
     "metadata": {},
     "output_type": "execute_result"
    }
   ],
   "source": [
    "def get_circumcentre(points):\n",
    "    \"\"\"Calculates the circumcentre (equidistant point) from 3 other points. Thus 'points' should be a 3x2. See https://www.wikiwand.com/en/Circumscribed_circle#/Circumcircle_equations\"\"\"\n",
    "    A, B, C = points\n",
    "    Ax, Ay = A; Bx, By = B; Cx, Cy = C\n",
    "    D = 2*(Ax*(By-Cy)+Bx*(Cy-Ay)+Cx*(Ay-By))\n",
    "    Ux = ( (Ax**2+Ay**2)*(By-Cy) + (Bx**2+By**2)*(Cy-Ay) + (Cx**2+Cy**2)*(Ay-By) ) / D\n",
    "    Uy = ( (Ax**2+Ay**2)*(Cx-Bx) + (Bx**2+By**2)*(Ax-Cx) + (Cx**2+Cy**2)*(Bx-Ax) ) / D\n",
    "    return np.array((Ux, Uy))\n",
    "\n",
    "circs = np.array([get_circumcentre(triplet) for triplet in circumcentre_triplets])"
   ]
  },
  {
   "cell_type": "code",
   "execution_count": 91,
   "id": "9e1385e7-6392-4450-aca0-cb0459ad8bb7",
   "metadata": {},
   "outputs": [
    {
     "data": {
      "text/plain": [
       "(2,)"
      ]
     },
     "execution_count": 91,
     "metadata": {},
     "output_type": "execute_result"
    }
   ],
   "source": [
    "median_circ = np.median(circs, axis=0)"
   ]
  },
  {
   "cell_type": "code",
   "execution_count": 92,
   "id": "df39e9b5-dd61-4d1f-9ae1-930cd39d688b",
   "metadata": {},
   "outputs": [],
   "source": [
    "fig, ax = plt.subplots()\n",
    "ax.imshow(s.data, vmin=0, vmax=200)\n",
    "for test_point in test_points:\n",
    "    circle = plt.Circle(test_point[::-1], outer_background_radius*1, color='r', fill=True)\n",
    "    ax.add_patch(circle)\n",
    "circle = plt.Circle(median_circ[::-1], outer_background_radius*0.2, color='r', fill=True)\n",
    "ax.add_patch(circle)\n",
    "plt.show()"
   ]
  },
  {
   "cell_type": "markdown",
   "id": "31eb22e3-638c-4250-bf59-49fcec5b0e42",
   "metadata": {},
   "source": [
    "## Intensity Measurement"
   ]
  },
  {
   "cell_type": "code",
   "execution_count": null,
   "id": "8f22cba1-e0b3-40c2-a737-8013be05634d",
   "metadata": {},
   "outputs": [],
   "source": [
    "peak_intensities = []\n",
    "image_window = windows.CircularWindow(selected_radius, inner_background_radius, outer_background_radius, s_dilated)\n",
    "for peak_point in peaks_list:\n",
    "    peak_intensities.append(image_window.get_integrated_intensity(*peak_point))"
   ]
  }
 ],
 "metadata": {
  "kernelspec": {
   "display_name": "Python 3 (ipykernel)",
   "language": "python",
   "name": "python3"
  },
  "language_info": {
   "codemirror_mode": {
    "name": "ipython",
    "version": 3
   },
   "file_extension": ".py",
   "mimetype": "text/x-python",
   "name": "python",
   "nbconvert_exporter": "python",
   "pygments_lexer": "ipython3",
   "version": "3.8.11"
  }
 },
 "nbformat": 4,
 "nbformat_minor": 5
}
