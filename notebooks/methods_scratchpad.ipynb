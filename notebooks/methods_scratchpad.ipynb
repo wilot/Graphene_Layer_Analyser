{
 "cells": [
  {
   "cell_type": "markdown",
   "metadata": {
    "pycharm": {
     "name": "#%% md\n"
    }
   },
   "source": [
    "# Methods Scratchpad\n",
    "\n",
    "A notebook for the trialling of analytical methods for the detection of layer number from graphene diffraction patterns, before those methods are incorporated into the main project."
   ]
  },
  {
   "cell_type": "markdown",
   "metadata": {},
   "source": [
    "## Imports and Setup"
   ]
  },
  {
   "cell_type": "code",
   "execution_count": 7,
   "metadata": {},
   "outputs": [],
   "source": [
    "%matplotlib qt\n",
    "import os\n",
    "import sys\n",
    "import time\n",
    "\n",
    "import numpy as np\n",
    "import scipy.optimize\n",
    "import sklearn.cluster\n",
    "import matplotlib.pyplot as plt\n",
    "import skimage.feature\n",
    "import skimage.filters\n",
    "import skimage.morphology\n",
    "\n",
    "import hyperspy.api as hs\n",
    "\n",
    "sys.path.append(\"../\")\n",
    "import windows\n",
    "import methods"
   ]
  },
  {
   "cell_type": "code",
   "execution_count": 8,
   "metadata": {
    "collapsed": false,
    "jupyter": {
     "outputs_hidden": false
    },
    "pycharm": {
     "name": "#%%\n"
    }
   },
   "outputs": [],
   "source": [
    "DATA_DIRECTORY = \"../data\"\n",
    "data_filenames = []\n",
    "\n",
    "# Make a list of filenames\n",
    "for dataset_directory in os.listdir(DATA_DIRECTORY):\n",
    "    dataset_directory_path = os.path.join(DATA_DIRECTORY, dataset_directory)\n",
    "    data_filenames.append({\n",
    "        \"dataset_name\": dataset_directory,\n",
    "        \"dataset_file_list\": [\n",
    "            os.path.join(dataset_directory_path, filename) \n",
    "            for filename in os.listdir(dataset_directory_path) \n",
    "            if filename[-4:] == \".dm3\" or filename[-4:] == \".emd\"\n",
    "        ]\n",
    "    })"
   ]
  },
  {
   "cell_type": "markdown",
   "metadata": {},
   "source": [
    "## Initial peakfinding"
   ]
  },
  {
   "cell_type": "code",
   "execution_count": 9,
   "metadata": {},
   "outputs": [],
   "source": [
    "s = hs.load(data_filenames[1][\"dataset_file_list\"][7])"
   ]
  },
  {
   "cell_type": "code",
   "execution_count": 10,
   "metadata": {},
   "outputs": [],
   "source": [
    "peaks_list = skimage.feature.peak_local_max(s.data[:], min_distance=100, threshold_abs=100, exclude_border=True, num_peaks=12)\n",
    "peaks_list_new = methods.Position.from_list(peaks_list)"
   ]
  },
  {
   "cell_type": "markdown",
   "metadata": {},
   "source": [
    "## Approximate Spot Size Estimation"
   ]
  },
  {
   "cell_type": "code",
   "execution_count": 11,
   "metadata": {},
   "outputs": [],
   "source": [
    "def gaussian(pos, xo, yo, sigma, amplitude, offset):\n",
    "    \"\"\"Returns a 2D gaussian function flattened to a 1D array.\"\"\"  \n",
    "    g = offset + amplitude*np.exp( - (((pos[0]-xo)**2)/(2*sigma**2) + ((pos[1]-yo)**2)/(2*sigma**2)))\n",
    "    return g.ravel()\n",
    "\n",
    "def get_gaussian_fwhm(img):\n",
    "    x = np.linspace(0, img.shape[1], img.shape[1])\n",
    "    y = np.linspace(0, img.shape[0], img.shape[0])\n",
    "    x, y = np.meshgrid(x, y)\n",
    "    #Parameters: xpos, ypos, sigma, amp, baseline\n",
    "    initial_guess = (img.shape[1]/2,img.shape[0]/2,10,1,0)\n",
    "    # subtract background and rescale image into [0,1], with floor clipping\n",
    "    bg = np.percentile(img,5)\n",
    "    img_scaled = np.clip((img - bg) / (img.max() - bg),0,1)\n",
    "    popt, pcov = scipy.optimize.curve_fit(gaussian, \n",
    "                                          (x, y), \n",
    "                                          img_scaled.ravel(), \n",
    "                                          p0=initial_guess, \n",
    "                                          bounds=((img.shape[1]*0.4, img.shape[0]*0.4, 1, 0.5, -0.1), \n",
    "                                                  (img.shape[1]*0.6, img.shape[0]*0.6, img.shape[0]/2, 1.5, 0.5)))\n",
    "    xcenter, ycenter, sigma, amp, offset = popt[0], popt[1], popt[2], popt[3], popt[4]\n",
    "    FWHM = np.abs(4*sigma*np.sqrt(-0.5*np.log(0.5)))\n",
    "    return FWHM"
   ]
  },
  {
   "cell_type": "markdown",
   "metadata": {},
   "source": [
    "Select a single peak to fit to a gaussian, and then assume all peaks have the same FWHM"
   ]
  },
  {
   "cell_type": "code",
   "execution_count": 12,
   "metadata": {},
   "outputs": [],
   "source": [
    "test_peak_coord = peaks_list[0]"
   ]
  },
  {
   "cell_type": "code",
   "execution_count": 13,
   "metadata": {},
   "outputs": [],
   "source": [
    "gaussian_fit_sub_window_half_size = (100, 100)\n",
    "gaussian_fit_sub_window = s.data[test_peak_coord[0] - gaussian_fit_sub_window_half_size[0] : \\\n",
    "                                 test_peak_coord[0] + gaussian_fit_sub_window_half_size[0],\n",
    "                                 test_peak_coord[1] - gaussian_fit_sub_window_half_size[0] : \\\n",
    "                                 test_peak_coord[1] + gaussian_fit_sub_window_half_size[0]]\n",
    "spot_fwhm = get_gaussian_fwhm(gaussian_fit_sub_window)"
   ]
  },
  {
   "cell_type": "markdown",
   "metadata": {},
   "source": [
    "Define sizes of selected areas etc. relative to the FWHM"
   ]
  },
  {
   "cell_type": "code",
   "execution_count": 14,
   "metadata": {},
   "outputs": [],
   "source": [
    "selected_radius = spot_fwhm * 2\n",
    "inner_background_radius = spot_fwhm * 5\n",
    "outer_background_radius = spot_fwhm * 6"
   ]
  },
  {
   "cell_type": "markdown",
   "metadata": {},
   "source": [
    "Plot it for debugging"
   ]
  },
  {
   "cell_type": "code",
   "execution_count": 15,
   "metadata": {},
   "outputs": [],
   "source": [
    "fig, ax = plt.subplots()\n",
    "ax.imshow(gaussian_fit_sub_window, cmap=\"Greys\")\n",
    "circle = plt.Circle(gaussian_fit_sub_window_half_size, spot_fwhm, color='r', fill=False)\n",
    "circle_sa = plt.Circle(gaussian_fit_sub_window_half_size, selected_radius, color='g', fill=False)\n",
    "circle_bg_inner = plt.Circle(gaussian_fit_sub_window_half_size, inner_background_radius, color='g', fill=False)\n",
    "circle_bg_outer = plt.Circle(gaussian_fit_sub_window_half_size, outer_background_radius, color='g', fill=False)\n",
    "ax.add_patch(circle)\n",
    "ax.add_patch(circle_sa)\n",
    "ax.add_patch(circle_bg_inner)\n",
    "ax.add_patch(circle_bg_outer)\n",
    "plt.show()"
   ]
  },
  {
   "cell_type": "markdown",
   "metadata": {},
   "source": [
    "## Intensity calculation"
   ]
  },
  {
   "cell_type": "markdown",
   "metadata": {},
   "source": [
    "Filters appear to be un-necessary..."
   ]
  },
  {
   "cell_type": "code",
   "execution_count": 16,
   "metadata": {},
   "outputs": [],
   "source": [
    "s_dilated = skimage.filters.gaussian(s.data, sigma=spot_fwhm)\n",
    "# mean_filter_footprint = skimage.morphology.disk(selected_radius//2)\n",
    "# s_dilated = skimage.filters.rank.mean(s.data, mean_filter_footprint)\n",
    "# s_dilated = s.data"
   ]
  },
  {
   "cell_type": "code",
   "execution_count": 17,
   "metadata": {},
   "outputs": [],
   "source": [
    "peak_intensities = []\n",
    "image_window = windows.CircularWindow(selected_radius, inner_background_radius, outer_background_radius, s_dilated)\n",
    "for peak_point in peaks_list:\n",
    "    peak_intensities.append(image_window.get_integrated_intensity(*peak_point))"
   ]
  },
  {
   "cell_type": "markdown",
   "metadata": {},
   "source": [
    "Plot a single peak's apertures, for debugging."
   ]
  },
  {
   "cell_type": "code",
   "execution_count": 18,
   "metadata": {},
   "outputs": [
    {
     "name": "stdout",
     "output_type": "stream",
     "text": [
      "Shown peak intensity: 24259.479638930938\n"
     ]
    }
   ],
   "source": [
    "debug_peak_number = 9\n",
    "print(\"Shown peak intensity:\", peak_intensities[debug_peak_number])\n",
    "\n",
    "fig, axis = plt.subplots()\n",
    "masks, sub_image = image_window.show_masks(*(peaks_list[debug_peak_number]))\n",
    "axis.imshow(sub_image, cmap=\"gray\")\n",
    "axis.imshow(masks, cmap=\"jet\", alpha=0.5)\n",
    "plt.show()"
   ]
  },
  {
   "cell_type": "markdown",
   "metadata": {},
   "source": [
    "## Refine Spot peak-finding\n",
    "\n",
    "Refine the estimates classification of spots with the image by using the knowledge that they should all be centered around a central point."
   ]
  },
  {
   "cell_type": "code",
   "execution_count": 13,
   "metadata": {},
   "outputs": [],
   "source": [
    "central_spot_estimate = np.mean(peaks_list, axis=0)"
   ]
  },
  {
   "cell_type": "markdown",
   "metadata": {},
   "source": [
    "Plot the location of the mean-central spot."
   ]
  },
  {
   "cell_type": "code",
   "execution_count": 14,
   "metadata": {},
   "outputs": [],
   "source": [
    "fig, ax = plt.subplots()\n",
    "# ax.imshow(s_dilated, vmin=0, vmax=250)\n",
    "ax.imshow(s.data, vmin=0, vmax=200)\n",
    "max_intensity = max(peak_intensities)\n",
    "for peak_point, peak_intensity in zip(peaks_list, peak_intensities):\n",
    "    color = 'g'\n",
    "    if 0.4 < peak_intensity / max_intensity < 0.65:\n",
    "        color = 'r'\n",
    "    circle = plt.Circle(peak_point[::-1], outer_background_radius*1.1, color=color, fill=False)\n",
    "    ax.add_patch(circle)\n",
    "central_spot_patch = plt.Circle(central_spot_estimate[::-1], outer_background_radius, color='r', fill=True)\n",
    "ax.add_patch(central_spot_patch)\n",
    "plt.show()"
   ]
  },
  {
   "cell_type": "markdown",
   "metadata": {},
   "source": [
    "Now use this rough estimate to try to refine the central point"
   ]
  },
  {
   "cell_type": "code",
   "execution_count": 15,
   "metadata": {},
   "outputs": [],
   "source": [
    "distances_to_central_spot = np.linalg.norm([peak_pos - central_spot_estimate for peak_pos in peaks_list], axis=1)\n",
    "distances_to_central_spot = np.array(list(zip(peaks_list, distances_to_central_spot)))"
   ]
  },
  {
   "cell_type": "code",
   "execution_count": 16,
   "metadata": {},
   "outputs": [],
   "source": [
    "distances_to_central_spot[:] = distances_to_central_spot[distances_to_central_spot[:,1].argsort()]"
   ]
  },
  {
   "cell_type": "code",
   "execution_count": 17,
   "metadata": {},
   "outputs": [],
   "source": [
    "radial_distance_steps = np.diff(distances_to_central_spot[:, 1])"
   ]
  },
  {
   "cell_type": "code",
   "execution_count": 18,
   "metadata": {},
   "outputs": [],
   "source": [
    "radial_distance_steps_median = np.median(radial_distance_steps)"
   ]
  },
  {
   "cell_type": "code",
   "execution_count": 19,
   "metadata": {},
   "outputs": [],
   "source": [
    "radial_distance_steps_normalised = radial_distance_steps / radial_distance_steps_median"
   ]
  },
  {
   "cell_type": "code",
   "execution_count": 20,
   "metadata": {},
   "outputs": [
    {
     "name": "stdout",
     "output_type": "stream",
     "text": [
      "[6]\n"
     ]
    }
   ],
   "source": [
    "big_step_indices = []\n",
    "for index, normalised_radial_step in enumerate(radial_distance_steps_normalised):\n",
    "    if normalised_radial_step > 5:\n",
    "        big_step_indices.append(index+1)\n",
    "print(big_step_indices)"
   ]
  },
  {
   "cell_type": "code",
   "execution_count": 21,
   "metadata": {},
   "outputs": [
    {
     "name": "stdout",
     "output_type": "stream",
     "text": [
      "[array([array([2554, 1862]), array([1493, 2150]), array([2413, 2396]),\n",
      "       array([1634, 1616]), array([2164, 1472]), array([1883, 2541])],\n",
      "      dtype=object), array([array([1101, 1759]), array([2947, 2254]), array([1350, 2686]),\n",
      "       array([2698, 1326]), array([2273, 2934]), array([1775, 1078])],\n",
      "      dtype=object)]\n"
     ]
    }
   ],
   "source": [
    "radially_ordered_peak_positions = distances_to_central_spot[:, 0][:]\n",
    "radial_position_clusters = []\n",
    "previous_step_index = 0\n",
    "for big_step_index in big_step_indices:\n",
    "    radial_position_clusters.append(radially_ordered_peak_positions[previous_step_index: big_step_index])\n",
    "    previous_step_index = big_step_index\n",
    "radial_position_clusters.append(radially_ordered_peak_positions[big_step_index:])\n",
    "print(radial_position_clusters)"
   ]
  },
  {
   "cell_type": "code",
   "execution_count": null,
   "metadata": {},
   "outputs": [],
   "source": [
    "def positions_equal(pos1, pos2):\n",
    "    return all([pos1_coord==pos2_coord for pos1_coord, pos2_coord in zip(pos1, pos2)])"
   ]
  },
  {
   "cell_type": "code",
   "execution_count": null,
   "metadata": {},
   "outputs": [],
   "source": []
  },
  {
   "cell_type": "code",
   "execution_count": 25,
   "metadata": {},
   "outputs": [
    {
     "name": "stdout",
     "output_type": "stream",
     "text": [
      "12 12\n"
     ]
    }
   ],
   "source": [
    "radial_position_index_clusters = []\n",
    "for radial_position_cluster in radial_position_clusters:\n",
    "    cluster_indices = []\n",
    "    for position in radial_position_cluster:\n",
    "        for index, peak_pos in enumerate(peaks_list):\n",
    "            if all([peak_pos_coord == position_coord for peak_pos_coord, position_coord in zip(peak_pos, position)]):\n",
    "                cluster_indices.append(index)\n",
    "                continue\n",
    "    radial_position_index_clusters.append(cluster_indices)\n",
    "total_indices = 0\n",
    "for cluster in radial_position_index_clusters:\n",
    "    total_indices += len(cluster)\n",
    "print(len(peaks_list), total_indices)"
   ]
  },
  {
   "cell_type": "markdown",
   "metadata": {},
   "source": [
    "Plot the whole diffraction pattern with identified peaks, for debugging."
   ]
  },
  {
   "cell_type": "code",
   "execution_count": 22,
   "metadata": {},
   "outputs": [
    {
     "name": "stderr",
     "output_type": "stream",
     "text": [
      "/tmp/ipykernel_65893/2642161558.py:7: DeprecationWarning: elementwise comparison failed; this will raise an error in the future.\n",
      "  if peak_point in radial_position_clusters[0]:\n"
     ]
    }
   ],
   "source": [
    "fig, ax = plt.subplots()\n",
    "# ax.imshow(s_dilated, vmin=0, vmax=250)\n",
    "ax.imshow(s.data, vmin=0, vmax=200)\n",
    "max_intensity = max(peak_intensities)\n",
    "for peak_point, peak_intensity in zip(peaks_list, peak_intensities):\n",
    "    color = 'g'\n",
    "    if peak_point in radial_position_clusters[0]:\n",
    "        color='r'\n",
    "    circle = plt.Circle(peak_point[::-1], outer_background_radius*1.1, color=color, fill=False)\n",
    "    ax.add_patch(circle)\n",
    "central_spot_patch = plt.Circle(central_spot_estimate[::-1], outer_background_radius, color='r', fill=True)\n",
    "ax.add_patch(central_spot_patch)\n",
    "plt.show()"
   ]
  },
  {
   "cell_type": "markdown",
   "metadata": {},
   "source": [
    "Plot a histogram of peak intensities, for classification debugging."
   ]
  },
  {
   "cell_type": "code",
   "execution_count": 18,
   "metadata": {},
   "outputs": [],
   "source": [
    "fig, ax = plt.subplots()\n",
    "ax.hist([peak_intensity / max_intensity for peak_intensity in peak_intensities], bins=10)\n",
    "plt.show()"
   ]
  },
  {
   "cell_type": "code",
   "execution_count": null,
   "metadata": {},
   "outputs": [],
   "source": []
  }
 ],
 "metadata": {
  "kernelspec": {
   "display_name": "Python 3 (ipykernel)",
   "language": "python",
   "name": "python3"
  },
  "language_info": {
   "codemirror_mode": {
    "name": "ipython",
    "version": 3
   },
   "file_extension": ".py",
   "mimetype": "text/x-python",
   "name": "python",
   "nbconvert_exporter": "python",
   "pygments_lexer": "ipython3",
   "version": "3.8.11"
  }
 },
 "nbformat": 4,
 "nbformat_minor": 4
}
