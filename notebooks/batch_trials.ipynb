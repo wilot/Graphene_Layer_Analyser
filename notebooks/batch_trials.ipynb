{
 "cells": [
  {
   "cell_type": "markdown",
   "id": "677329e6-a374-45ac-b925-5984101c419c",
   "metadata": {},
   "source": [
    "# Batch trials\n",
    "\n",
    "A notebook for trialling the developed methods on extended numbers of files..."
   ]
  },
  {
   "cell_type": "code",
   "execution_count": 1,
   "id": "cb9f29ce-1a0c-48f0-8c7e-c025c842b04f",
   "metadata": {},
   "outputs": [],
   "source": [
    "%matplotlib qt\n",
    "import os\n",
    "import sys\n",
    "import time\n",
    "\n",
    "import matplotlib.pyplot as plt\n",
    "import skimage.feature\n",
    "import skimage.filters\n",
    "import skimage.morphology\n",
    "\n",
    "import hyperspy.api as hs\n",
    "\n",
    "sys.path.append(\"../\")\n",
    "import windows"
   ]
  },
  {
   "cell_type": "code",
   "execution_count": 2,
   "id": "812876e6-d61f-45a5-93b0-d75dd32c6afc",
   "metadata": {},
   "outputs": [],
   "source": [
    "DATA_DIRECTORY = \"../data\"\n",
    "data_filenames = []\n",
    "\n",
    "# Make a list of filenames\n",
    "for dataset_directory in os.listdir(DATA_DIRECTORY):\n",
    "    dataset_directory_path = os.path.join(DATA_DIRECTORY, dataset_directory)\n",
    "    data_filenames.append({\n",
    "        \"dataset_name\": dataset_directory,\n",
    "        \"dataset_file_list\": [\n",
    "            os.path.join(dataset_directory_path, filename) \n",
    "            for filename in os.listdir(dataset_directory_path) \n",
    "            if filename[-4:] == \".dm3\" or filename[-4:] == \".emd\"\n",
    "        ]\n",
    "    })"
   ]
  },
  {
   "cell_type": "code",
   "execution_count": 3,
   "id": "2bebedff-6954-46f9-81c4-e03c73d0f17b",
   "metadata": {},
   "outputs": [],
   "source": [
    "selected_radius = 20\n",
    "inner_background_radius = 50\n",
    "outer_background_radius = 75"
   ]
  },
  {
   "cell_type": "code",
   "execution_count": 4,
   "id": "d6755dde-455e-4940-825e-ff0644330ab0",
   "metadata": {},
   "outputs": [],
   "source": [
    "peak_intensities_list = []"
   ]
  },
  {
   "cell_type": "code",
   "execution_count": 5,
   "id": "6f6d6236-20d4-4039-9475-c4e0556f5eec",
   "metadata": {},
   "outputs": [
    {
     "name": "stdout",
     "output_type": "stream",
     "text": [
      "Processing 13 files\n",
      "Processed another\n",
      "Processed another\n",
      "Processed another\n",
      "Processed another\n",
      "Processed another\n",
      "Processed another\n",
      "Processed another\n",
      "Processed another\n",
      "Processed another\n",
      "Processed another\n",
      "Processed another\n",
      "Processed another\n",
      "Processed another\n"
     ]
    }
   ],
   "source": [
    "print(\"Processing\", len(data_filenames[1][\"dataset_file_list\"]), \"files\")\n",
    "for filename in data_filenames[1][\"dataset_file_list\"]:\n",
    "    s = hs.load(filename)\n",
    "    s_dilated = skimage.filters.gaussian(s.data, sigma=selected_radius/3)\n",
    "    # mean_filter_footprint = skimage.morphology.disk(selected_radius//2)\n",
    "    # s_dilated = skimage.filters.rank.mean(s.data, mean_filter_footprint)\n",
    "#     s_dilated = s.data\n",
    "    peaks_list = skimage.feature.peak_local_max(s.data[:], min_distance=100, threshold_abs=100, exclude_border=True, num_peaks=12)\n",
    "    peak_intensities = []\n",
    "    image_window = windows.CircularWindow(selected_radius, inner_background_radius, outer_background_radius, s_dilated)\n",
    "    for peak_point in peaks_list:\n",
    "        peak_intensities.append(image_window.get_integrated_intensity(*peak_point))\n",
    "        \n",
    "#     fig, ax = plt.subplots()\n",
    "#     ax.imshow(s_dilated, vmin=0, vmax=250)\n",
    "#     for peak_point in peaks_list:\n",
    "#         circle = plt.Circle(peak_point[::-1], outer_background_radius*1.1, color='g', fill=False)\n",
    "#         ax.add_patch(circle)\n",
    "#     plt.show()\n",
    "    \n",
    "    peak_intensities_list.append(peak_intensities)\n",
    "    print(\"Processed another\")"
   ]
  },
  {
   "cell_type": "markdown",
   "id": "bdf24ced-9c9f-4014-9522-4a245ef4dc71",
   "metadata": {},
   "source": [
    "### Now normalise by the brightest peak in each image"
   ]
  },
  {
   "cell_type": "code",
   "execution_count": 6,
   "id": "981dd9e0-174f-41f7-8bfd-88f151ca6c73",
   "metadata": {},
   "outputs": [],
   "source": [
    "norm_pk_int_lst = []\n",
    "for peak_intensity_list in peak_intensities_list:\n",
    "    max_peak_val = max(peak_intensity_list)\n",
    "    normalised_list = [intensity / max_peak_val for intensity in peak_intensity_list]\n",
    "    norm_pk_int_lst.append(normalised_list)"
   ]
  },
  {
   "cell_type": "code",
   "execution_count": 7,
   "id": "e6396fdf-0f25-4c05-aaff-9f55512f9f3b",
   "metadata": {},
   "outputs": [],
   "source": [
    "flat_norm_pk_int_lst = [intensity for peak_intensity_list in norm_pk_int_lst for intensity in peak_intensity_list]"
   ]
  },
  {
   "cell_type": "code",
   "execution_count": 8,
   "id": "c77197b9-7883-4d08-9adb-e4e391dfc3dc",
   "metadata": {},
   "outputs": [],
   "source": [
    "fig, ax = plt.subplots()\n",
    "ax.hist(flat_norm_pk_int_lst, bins=100)\n",
    "plt.show()"
   ]
  },
  {
   "cell_type": "code",
   "execution_count": null,
   "id": "10df0fbc-c068-4744-99df-182ab0ed7f4f",
   "metadata": {},
   "outputs": [],
   "source": []
  }
 ],
 "metadata": {
  "kernelspec": {
   "display_name": "Python 3 (ipykernel)",
   "language": "python",
   "name": "python3"
  },
  "language_info": {
   "codemirror_mode": {
    "name": "ipython",
    "version": 3
   },
   "file_extension": ".py",
   "mimetype": "text/x-python",
   "name": "python",
   "nbconvert_exporter": "python",
   "pygments_lexer": "ipython3",
   "version": "3.8.11"
  }
 },
 "nbformat": 4,
 "nbformat_minor": 5
}
